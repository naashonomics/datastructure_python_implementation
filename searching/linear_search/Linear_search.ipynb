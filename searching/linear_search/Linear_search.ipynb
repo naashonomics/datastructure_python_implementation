{
 "cells": [
  {
   "cell_type": "code",
   "execution_count": 7,
   "metadata": {},
   "outputs": [
    {
     "name": "stdout",
     "output_type": "stream",
     "text": [
      "Key 11 is in [84, 21, 47, 95, 11] : True\n"
     ]
    }
   ],
   "source": [
    "def linear_search(array,key):\n",
    "    pos=0\n",
    "    found=False\n",
    "    while pos < len(array) and not found:\n",
    "            if array[pos] == key:\n",
    "                found=True\n",
    "            else:\n",
    "                pos=pos+1\n",
    "    return found\n",
    "\n",
    "array=[84,21,47,95,11]\n",
    "key=11\n",
    "found = linear_search(array,key)\n",
    "print(\"Key {key} is in {array} : {found}\".format(key=key, array=array,found=found))"
   ]
  },
  {
   "cell_type": "code",
   "execution_count": 8,
   "metadata": {},
   "outputs": [
    {
     "name": "stdout",
     "output_type": "stream",
     "text": [
      "Key 20 is in [84, 21, 47, 95, 11] : False\n"
     ]
    }
   ],
   "source": [
    "array=[84,21,47,95,11]\n",
    "key=20\n",
    "found = linear_search(array,key)\n",
    "print(\"Key {key} is in {array} : {found}\".format(key=key, array=array,found=found))"
   ]
  },
  {
   "cell_type": "markdown",
   "metadata": {},
   "source": [
    "Time Acomplexity is O(n)"
   ]
  },
  {
   "cell_type": "code",
   "execution_count": null,
   "metadata": {},
   "outputs": [],
   "source": []
  }
 ],
 "metadata": {
  "kernelspec": {
   "display_name": "Anaconda 3",
   "language": "python",
   "name": "python3"
  },
  "language_info": {
   "codemirror_mode": {
    "name": "ipython",
    "version": 3
   },
   "file_extension": ".py",
   "mimetype": "text/x-python",
   "name": "python",
   "nbconvert_exporter": "python",
   "pygments_lexer": "ipython3",
   "version": "3.7.3"
  }
 },
 "nbformat": 4,
 "nbformat_minor": 2
}
