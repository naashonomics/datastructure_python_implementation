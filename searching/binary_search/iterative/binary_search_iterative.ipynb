{
 "cells": [
  {
   "cell_type": "code",
   "execution_count": 3,
   "metadata": {},
   "outputs": [
    {
     "name": "stdout",
     "output_type": "stream",
     "text": [
      "Key 96 is in [15, 21, 47, 84, 96] : True\n"
     ]
    }
   ],
   "source": [
    "def binary_search(array,key):\n",
    "    low=0\n",
    "    high= len(array)-1\n",
    "    while low <= high:\n",
    "        mid=(low+high)//2\n",
    "        if key==array[mid]:\n",
    "            return True\n",
    "        elif key < array[mid]:\n",
    "            high = mid-1\n",
    "        else:\n",
    "            low=mid+1\n",
    "    return False\n",
    "array=[15,21,47,84,96]\n",
    "key=96\n",
    "found=binary_search(array,key)\n",
    "print(\"Key {key} is in {array} : {found}\".format(key=key, array=array,found=found))"
   ]
  },
  {
   "cell_type": "code",
   "execution_count": 4,
   "metadata": {},
   "outputs": [
    {
     "name": "stdout",
     "output_type": "stream",
     "text": [
      "Key 16 is in [15, 21, 47, 84, 96] : False\n"
     ]
    }
   ],
   "source": [
    "array=[15,21,47,84,96]\n",
    "key=16\n",
    "found=binary_search(array,key)\n",
    "print(\"Key {key} is in {array} : {found}\".format(key=key, array=array,found=found))"
   ]
  },
  {
   "cell_type": "code",
   "execution_count": null,
   "metadata": {},
   "outputs": [],
   "source": []
  }
 ],
 "metadata": {
  "kernelspec": {
   "display_name": "Anaconda 3",
   "language": "python",
   "name": "python3"
  },
  "language_info": {
   "codemirror_mode": {
    "name": "ipython",
    "version": 3
   },
   "file_extension": ".py",
   "mimetype": "text/x-python",
   "name": "python",
   "nbconvert_exporter": "python",
   "pygments_lexer": "ipython3",
   "version": "3.7.3"
  }
 },
 "nbformat": 4,
 "nbformat_minor": 2
}
